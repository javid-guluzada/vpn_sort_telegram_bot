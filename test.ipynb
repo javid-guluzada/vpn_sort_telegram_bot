{
 "cells": [
  {
   "cell_type": "code",
   "execution_count": 1,
   "metadata": {},
   "outputs": [],
   "source": [
    "import requests\n",
    "from bs4 import BeautifulSoup"
   ]
  },
  {
   "cell_type": "code",
   "execution_count": 9,
   "metadata": {},
   "outputs": [],
   "source": [
    "base_url= 'https://www.vpnjantit.com/'\n",
    "countries_path='free-wireguard'"
   ]
  },
  {
   "cell_type": "code",
   "execution_count": 90,
   "metadata": {},
   "outputs": [],
   "source": [
    "response = requests.get(base_url+countries_path)\n",
    "soup = BeautifulSoup(response.text, 'html.parser')"
   ]
  },
  {
   "cell_type": "code",
   "execution_count": 91,
   "metadata": {},
   "outputs": [
    {
     "name": "stdout",
     "output_type": "stream",
     "text": [
      "52\n"
     ]
    }
   ],
   "source": [
    "\n",
    "countries= soup.find_all('a', class_='btn btn-primary py-3')\n",
    "c=0\n",
    "for country in countries:\n",
    "    c+=1\n",
    "print(c)"
   ]
  },
  {
   "cell_type": "code",
   "execution_count": 14,
   "metadata": {},
   "outputs": [],
   "source": [
    "usa=requests.get(base_url   +'free-wireguard-usa')\n",
    "s=BeautifulSoup(usa.text, 'html.parser')"
   ]
  },
  {
   "cell_type": "code",
   "execution_count": 22,
   "metadata": {},
   "outputs": [],
   "source": [
    "\n",
    "vpn=s.find_all('div', class_='block-7 text-center services border')"
   ]
  },
  {
   "cell_type": "code",
   "execution_count": 86,
   "metadata": {},
   "outputs": [],
   "source": [
    "vps=[]\n",
    "for v in vpn:\n",
    "    vp ={}\n",
    "    name=v.find_all('font')[0].text\n",
    "    aviable=v.find_all('font')[0].text\n",
    "    # ul=v.find('ul').find('li')\n",
    "    activeDays = v.find('ul').find_all('li')[4].contents[0][7]\n",
    " \n",
    "    link=v.find('a', class_='btn btn-primary d-block px-3 py-3 mb-4')['href']\n",
    "    r=requests.get(base_url+link)\n",
    "    s=BeautifulSoup(r.text, 'html.parser')\n",
    "    div=s.find_all('div', class_='media block-6 services border text-left')\n",
    "    speed=div[1].find_all('h5')[5].text\n",
    "    speed=speed.replace('Mbit/s','').strip()\n",
    "    vp['name']=name\n",
    "    vp['aviable']=aviable\n",
    "    vp['activeDays']=activeDays\n",
    "    vp['link']=base_url+link\n",
    "    vp['speed']=float(speed)\n",
    "    vps.append(vp)\n"
   ]
  },
  {
   "cell_type": "code",
   "execution_count": 88,
   "metadata": {},
   "outputs": [],
   "source": [
    "''' \n",
    "{'name': 'FREE WireGuard USA 6',\n",
    "  'aviable': 'FREE WireGuard USA 6',\n",
    "  'activeDays': '1',\n",
    "  'link': 'https://www.vpnjantit.com//create-free-account?server=usa6&type=WireGuard',\n",
    "  'speed': 6.66},\n",
    "\n",
    "  sort by speed\n",
    "\n",
    "'''\n",
    "vps.sort(key=lambda x: x['speed'], reverse=True)"
   ]
  },
  {
   "cell_type": "code",
   "execution_count": 89,
   "metadata": {},
   "outputs": [
    {
     "data": {
      "text/plain": [
       "[{'name': 'FREE WireGuard USA 7',\n",
       "  'aviable': 'FREE WireGuard USA 7',\n",
       "  'activeDays': '7',\n",
       "  'link': 'https://www.vpnjantit.com//create-free-account?server=usa7&type=WireGuard',\n",
       "  'speed': 75.31},\n",
       " {'name': 'FREE WireGuard USA 5',\n",
       "  'aviable': 'FREE WireGuard USA 5',\n",
       "  'activeDays': '7',\n",
       "  'link': 'https://www.vpnjantit.com//create-free-account?server=usa5&type=WireGuard',\n",
       "  'speed': 64.67},\n",
       " {'name': 'FREE WireGuard USA 2',\n",
       "  'aviable': 'FREE WireGuard USA 2',\n",
       "  'activeDays': '7',\n",
       "  'link': 'https://www.vpnjantit.com//create-free-account?server=usa2&type=WireGuard',\n",
       "  'speed': 64.1},\n",
       " {'name': 'FREE WireGuard USA 4',\n",
       "  'aviable': 'FREE WireGuard USA 4',\n",
       "  'activeDays': '5',\n",
       "  'link': 'https://www.vpnjantit.com//create-free-account?server=usa4&type=WireGuard',\n",
       "  'speed': 60.81},\n",
       " {'name': 'FREE WireGuard USA 3',\n",
       "  'aviable': 'FREE WireGuard USA 3',\n",
       "  'activeDays': '5',\n",
       "  'link': 'https://www.vpnjantit.com//create-free-account?server=usa3&type=WireGuard',\n",
       "  'speed': 54.04},\n",
       " {'name': 'FREE WireGuard Premium USA1',\n",
       "  'aviable': 'FREE WireGuard Premium USA1',\n",
       "  'activeDays': '7',\n",
       "  'link': 'https://www.vpnjantit.com//create-free-account?server=premiusa1&type=WireGuard',\n",
       "  'speed': 53.12},\n",
       " {'name': 'FREE WireGuard Premium USA2',\n",
       "  'aviable': 'FREE WireGuard Premium USA2',\n",
       "  'activeDays': '7',\n",
       "  'link': 'https://www.vpnjantit.com//create-free-account?server=premiusa2&type=WireGuard',\n",
       "  'speed': 45.7},\n",
       " {'name': 'FREE WireGuard USA 1',\n",
       "  'aviable': 'FREE WireGuard USA 1',\n",
       "  'activeDays': '7',\n",
       "  'link': 'https://www.vpnjantit.com//create-free-account?server=usa1&type=WireGuard',\n",
       "  'speed': 37.38},\n",
       " {'name': 'FREE WireGuard USA 9',\n",
       "  'aviable': 'FREE WireGuard USA 9',\n",
       "  'activeDays': '7',\n",
       "  'link': 'https://www.vpnjantit.com//create-free-account?server=usa9&type=WireGuard',\n",
       "  'speed': 36.34},\n",
       " {'name': 'FREE WireGuard Premium USA3',\n",
       "  'aviable': 'FREE WireGuard Premium USA3',\n",
       "  'activeDays': '7',\n",
       "  'link': 'https://www.vpnjantit.com//create-free-account?server=premiusa3&type=WireGuard',\n",
       "  'speed': 31.88},\n",
       " {'name': 'FREE WireGuard USA 8',\n",
       "  'aviable': 'FREE WireGuard USA 8',\n",
       "  'activeDays': '7',\n",
       "  'link': 'https://www.vpnjantit.com//create-free-account?server=usa8&type=WireGuard',\n",
       "  'speed': 23.73},\n",
       " {'name': 'FREE WireGuard USA 6',\n",
       "  'aviable': 'FREE WireGuard USA 6',\n",
       "  'activeDays': '1',\n",
       "  'link': 'https://www.vpnjantit.com//create-free-account?server=usa6&type=WireGuard',\n",
       "  'speed': 6.66},\n",
       " {'name': 'FREE WireGuard USA 10',\n",
       "  'aviable': 'FREE WireGuard USA 10',\n",
       "  'activeDays': '7',\n",
       "  'link': 'https://www.vpnjantit.com//create-free-account?server=usa10&type=WireGuard',\n",
       "  'speed': 2.07}]"
      ]
     },
     "execution_count": 89,
     "metadata": {},
     "output_type": "execute_result"
    }
   ],
   "source": [
    "vps"
   ]
  }
 ],
 "metadata": {
  "kernelspec": {
   "display_name": "Python 3",
   "language": "python",
   "name": "python3"
  },
  "language_info": {
   "codemirror_mode": {
    "name": "ipython",
    "version": 3
   },
   "file_extension": ".py",
   "mimetype": "text/x-python",
   "name": "python",
   "nbconvert_exporter": "python",
   "pygments_lexer": "ipython3",
   "version": "3.11.7"
  }
 },
 "nbformat": 4,
 "nbformat_minor": 2
}
